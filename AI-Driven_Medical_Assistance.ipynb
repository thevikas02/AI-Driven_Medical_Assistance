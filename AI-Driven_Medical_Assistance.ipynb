{
 "cells": [
  {
   "cell_type": "code",
   "execution_count": 1,
   "id": "fc6f66ef-d723-459f-8cc3-ef287a737411",
   "metadata": {},
   "outputs": [],
   "source": [
    "from sklearn.ensemble import RandomForestClassifier,GradientBoostingClassifier\n",
    "from sklearn.metrics import accuracy_score,confusion_matrix\n",
    "from sklearn.model_selection import train_test_split\n",
    "from sklearn.neighbors import KNeighborsClassifier\n",
    "from sklearn.datasets import make_classification\n",
    "from sklearn.preprocessing import LabelEncoder\n",
    "from sklearn.naive_bayes import MultinomialNB\n",
    "from sklearn.svm import SVC\n",
    "import pandas as pd\n",
    "import numpy as np\n",
    "import warnings\n",
    "import pickle\n",
    "import os\n",
    "\n",
    "warnings.filterwarnings('ignore')\n",
    "pd.set_option('display.max_columns', None)"
   ]
  },
  {
   "cell_type": "code",
   "execution_count": 2,
   "id": "f29ac8a5-5ae1-49d0-88b2-374cd59ddc66",
   "metadata": {},
   "outputs": [
    {
     "name": "stdout",
     "output_type": "stream",
     "text": [
      "Note: you may need to restart the kernel to use updated packages.\n"
     ]
    },
    {
     "name": "stderr",
     "output_type": "stream",
     "text": [
      "ERROR: unknown command \"install--upgrade\" - maybe you meant \"install\"\n",
      "\n"
     ]
    }
   ],
   "source": [
    "pip install--upgrade pip"
   ]
  },
  {
   "cell_type": "code",
   "execution_count": 3,
   "id": "12eb2817-2389-4527-aa70-b74a8e2b0451",
   "metadata": {},
   "outputs": [
    {
     "name": "stdout",
     "output_type": "stream",
     "text": [
      "Requirement already satisfied: speechrecognition in c:\\users\\nand\\anaconda3\\lib\\site-packages (3.10.4)\n",
      "Requirement already satisfied: requests>=2.26.0 in c:\\users\\nand\\anaconda3\\lib\\site-packages (from speechrecognition) (2.32.2)\n",
      "Requirement already satisfied: typing-extensions in c:\\users\\nand\\anaconda3\\lib\\site-packages (from speechrecognition) (4.11.0)\n",
      "Requirement already satisfied: charset-normalizer<4,>=2 in c:\\users\\nand\\anaconda3\\lib\\site-packages (from requests>=2.26.0->speechrecognition) (2.0.4)\n",
      "Requirement already satisfied: idna<4,>=2.5 in c:\\users\\nand\\anaconda3\\lib\\site-packages (from requests>=2.26.0->speechrecognition) (3.7)\n",
      "Requirement already satisfied: urllib3<3,>=1.21.1 in c:\\users\\nand\\anaconda3\\lib\\site-packages (from requests>=2.26.0->speechrecognition) (2.2.2)\n",
      "Requirement already satisfied: certifi>=2017.4.17 in c:\\users\\nand\\anaconda3\\lib\\site-packages (from requests>=2.26.0->speechrecognition) (2024.6.2)\n",
      "Note: you may need to restart the kernel to use updated packages.\n"
     ]
    }
   ],
   "source": [
    "pip install speechrecognition\n"
   ]
  },
  {
   "cell_type": "code",
   "execution_count": 4,
   "id": "b0383869-fc6b-44d2-b043-f1310e0f2f27",
   "metadata": {},
   "outputs": [
    {
     "name": "stdout",
     "output_type": "stream",
     "text": [
      "Requirement already satisfied: pyttsx3 in c:\\users\\nand\\anaconda3\\lib\\site-packages (2.91)\n",
      "Requirement already satisfied: comtypes in c:\\users\\nand\\anaconda3\\lib\\site-packages (from pyttsx3) (1.4.7)\n",
      "Requirement already satisfied: pypiwin32 in c:\\users\\nand\\anaconda3\\lib\\site-packages (from pyttsx3) (223)\n",
      "Requirement already satisfied: pywin32 in c:\\users\\nand\\anaconda3\\lib\\site-packages (from pyttsx3) (305.1)\n",
      "Note: you may need to restart the kernel to use updated packages.\n"
     ]
    }
   ],
   "source": [
    "pip install pyttsx3"
   ]
  },
  {
   "cell_type": "code",
   "execution_count": 5,
   "id": "e40466de-a37b-41d1-a097-af9c7d5b5671",
   "metadata": {},
   "outputs": [
    {
     "name": "stdout",
     "output_type": "stream",
     "text": [
      "Requirement already satisfied: PyAudio in c:\\users\\nand\\anaconda3\\lib\\site-packages (0.2.14)\n",
      "Note: you may need to restart the kernel to use updated packages.\n"
     ]
    }
   ],
   "source": [
    "pip install PyAudio"
   ]
  },
  {
   "cell_type": "code",
   "execution_count": 6,
   "id": "fc69f4e6-7c83-4dfb-a554-9a1ddc31b210",
   "metadata": {},
   "outputs": [],
   "source": [
    "df = pd.read_csv(\"Training.csv\")\n",
    "sym_des = pd.read_csv('symtoms_df.csv')\n",
    "precautions = pd.read_csv('precautions_df.csv')\n",
    "workout = pd.read_csv('workout_df.csv')\n",
    "description = pd.read_csv('description.csv')\n",
    "medications = pd.read_csv('medications.csv')\n",
    "diets = pd.read_csv('diets.csv')"
   ]
  },
  {
   "cell_type": "code",
   "execution_count": 7,
   "id": "bda10341-8295-4fb1-a958-b7465154d10f",
   "metadata": {},
   "outputs": [
    {
     "data": {
      "text/plain": [
       "array(['Fungal infection', 'Allergy', 'GERD', 'Chronic cholestasis',\n",
       "       'Drug Reaction', 'Peptic ulcer diseae', 'AIDS', 'Diabetes ',\n",
       "       'Gastroenteritis', 'Bronchial Asthma', 'Hypertension ', 'Migraine',\n",
       "       'Cervical spondylosis', 'Paralysis (brain hemorrhage)', 'Jaundice',\n",
       "       'Malaria', 'Chicken pox', 'Dengue', 'Typhoid', 'hepatitis A',\n",
       "       'Hepatitis B', 'Hepatitis C', 'Hepatitis D', 'Hepatitis E',\n",
       "       'Alcoholic hepatitis', 'Tuberculosis', 'Common Cold', 'Pneumonia',\n",
       "       'Dimorphic hemmorhoids(piles)', 'Heart attack', 'Varicose veins',\n",
       "       'Hypothyroidism', 'Hyperthyroidism', 'Hypoglycemia',\n",
       "       'Osteoarthristis', 'Arthritis',\n",
       "       '(vertigo) Paroymsal  Positional Vertigo', 'Acne',\n",
       "       'Urinary tract infection', 'Psoriasis', 'Impetigo'], dtype=object)"
      ]
     },
     "execution_count": 7,
     "metadata": {},
     "output_type": "execute_result"
    }
   ],
   "source": [
    "df['prognosis'].unique() # prognosis column represent the diseases "
   ]
  },
  {
   "cell_type": "code",
   "execution_count": 8,
   "id": "7beb76a3-5259-4190-afaa-56be24b381ba",
   "metadata": {},
   "outputs": [],
   "source": [
    "X = df.drop('prognosis' ,axis=1)\n",
    "y = df['prognosis']"
   ]
  },
  {
   "cell_type": "code",
   "execution_count": 9,
   "id": "f7cb3d15-0cba-448c-a82d-ffbc5891bcd3",
   "metadata": {},
   "outputs": [],
   "source": [
    "le = LabelEncoder()\n",
    "le.fit(y)\n",
    "Y = le.transform(y)"
   ]
  },
  {
   "cell_type": "code",
   "execution_count": 10,
   "id": "ceef9c6a-d21e-4320-9980-af64cf8b7f37",
   "metadata": {},
   "outputs": [],
   "source": [
    "# split the data \n",
    "X_test,X_train,y_test,y_train = train_test_split(X,Y,test_size =0.2 , random_state=42)"
   ]
  },
  {
   "cell_type": "code",
   "execution_count": 11,
   "id": "fb2037bb-cf19-437d-a9c3-4ea1d2ded631",
   "metadata": {},
   "outputs": [
    {
     "data": {
      "text/plain": [
       "((3936, 132), (984, 132), (3936,), (984,))"
      ]
     },
     "execution_count": 11,
     "metadata": {},
     "output_type": "execute_result"
    }
   ],
   "source": [
    "X_test.shape,X_train.shape,y_test.shape,y_train.shape"
   ]
  },
  {
   "cell_type": "code",
   "execution_count": 12,
   "id": "54fc5be3-f05c-4669-b6e0-0ce43b98c7fb",
   "metadata": {},
   "outputs": [
    {
     "name": "stdout",
     "output_type": "stream",
     "text": [
      "SVC accuracy : 1.0\n",
      "SVC confusion matrix :\n",
      "[[102,   0,   0, ...,   0,   0,   0],\n",
      " [  0,  90,   0, ...,   0,   0,   0],\n",
      " [  0,   0,  96, ...,   0,   0,   0],\n",
      " ...,\n",
      " [  0,   0,   0, ...,  94,   0,   0],\n",
      " [  0,   0,   0, ...,   0,  98,   0],\n",
      " [  0,   0,   0, ...,   0,   0,  86]]\n",
      "Random Forest accuracy : 1.0\n",
      "Random Forest confusion matrix :\n",
      "[[102,   0,   0, ...,   0,   0,   0],\n",
      " [  0,  90,   0, ...,   0,   0,   0],\n",
      " [  0,   0,  96, ...,   0,   0,   0],\n",
      " ...,\n",
      " [  0,   0,   0, ...,  94,   0,   0],\n",
      " [  0,   0,   0, ...,   0,  98,   0],\n",
      " [  0,   0,   0, ...,   0,   0,  86]]\n",
      "KNeighbors accuracy : 1.0\n",
      "KNeighbors confusion matrix :\n",
      "[[102,   0,   0, ...,   0,   0,   0],\n",
      " [  0,  90,   0, ...,   0,   0,   0],\n",
      " [  0,   0,  96, ...,   0,   0,   0],\n",
      " ...,\n",
      " [  0,   0,   0, ...,  94,   0,   0],\n",
      " [  0,   0,   0, ...,   0,  98,   0],\n",
      " [  0,   0,   0, ...,   0,   0,  86]]\n",
      "Gradient Boosting accuracy : 0.9801829268292683\n",
      "Gradient Boosting confusion matrix :\n",
      "[[102,   0,   0, ...,   0,   0,   0],\n",
      " [  0,  90,   0, ...,   0,   0,   0],\n",
      " [  0,   0,  96, ...,   0,   0,   0],\n",
      " ...,\n",
      " [  0,   0,   0, ...,  88,   0,   0],\n",
      " [  0,   0,   0, ...,   0,  98,   0],\n",
      " [  0,   0,   0, ...,   0,   0,  86]]\n",
      "MultinomialNB accuracy : 0.9977134146341463\n",
      "MultinomialNB confusion matrix :\n",
      "[[102,   0,   0, ...,   0,   0,   0],\n",
      " [  0,  90,   0, ...,   0,   0,   0],\n",
      " [  0,   0,  96, ...,   0,   0,   0],\n",
      " ...,\n",
      " [  0,   0,   0, ...,  94,   0,   0],\n",
      " [  0,   0,   0, ...,   0,  98,   0],\n",
      " [  0,   0,   0, ...,   0,   0,  86]]\n"
     ]
    }
   ],
   "source": [
    "# Here we can train the top best models which can give best accuracy So i can create a Dictionary of models to check which model is more accurate.\n",
    "models = {\n",
    "      'SVC' : SVC(kernel='linear'),\n",
    "      'Random Forest' :RandomForestClassifier(random_state=42,n_estimators=100),\n",
    "      'KNeighbors' : KNeighborsClassifier(n_neighbors=5),\n",
    "      'Gradient Boosting': GradientBoostingClassifier(random_state=42,n_estimators=100),\n",
    "      'MultinomialNB' :MultinomialNB() \n",
    "}\n",
    "for model_name , model in models.items():\n",
    "    # Train model\n",
    "    model.fit(X_train,y_train)\n",
    "    # test model\n",
    "    predictions = model.predict(X_test)\n",
    "    # calculate accuracy\n",
    "    accuracy = accuracy_score(y_test,predictions)\n",
    "    # calculate confusion matrix\n",
    "    cm = confusion_matrix(y_test,predictions)\n",
    "    # print results\n",
    "    print(f\"{model_name} accuracy : {accuracy}\")\n",
    "    print(f\"{model_name} confusion matrix :\")\n",
    "    print(np.array2string(cm,separator=', '))"
   ]
  },
  {
   "cell_type": "code",
   "execution_count": 13,
   "id": "518dd518-142e-4a9a-8790-8ce4156b4086",
   "metadata": {},
   "outputs": [
    {
     "data": {
      "text/plain": [
       "1.0"
      ]
     },
     "execution_count": 13,
     "metadata": {},
     "output_type": "execute_result"
    }
   ],
   "source": [
    "svc = SVC(kernel='linear')\n",
    "svc.fit(X_train,y_train)\n",
    "y_pred = svc.predict(X_test)\n",
    "acc = accuracy_score(y_pred,y_test)\n",
    "acc"
   ]
  },
  {
   "cell_type": "code",
   "execution_count": 14,
   "id": "a5991093-d7a2-41bf-af53-7a58353aafe1",
   "metadata": {},
   "outputs": [],
   "source": [
    "import pickle\n",
    "#pickle.dump(svc,open('models/svc.pkl','wb')) #it stores model\n",
    "#load model\n",
    "svc= pickle.load(open('svc.pkl','rb'))"
   ]
  },
  {
   "cell_type": "code",
   "execution_count": 15,
   "id": "46a7ec45-527e-4450-a66c-183385c069a8",
   "metadata": {},
   "outputs": [
    {
     "data": {
      "text/plain": [
       "array([[1, 1, 0, 0, 0, 0, 0, 0, 0, 0, 0, 0, 0, 0, 1, 0, 0, 0, 0, 0, 0, 1,\n",
       "        0, 0, 0, 1, 0, 0, 0, 0, 0, 1, 0, 0, 0, 0, 0, 0, 0, 0, 0, 1, 0, 0,\n",
       "        0, 0, 0, 1, 1, 0, 0, 0, 0, 0, 0, 0, 0, 0, 0, 0, 0, 0, 0, 0, 0, 0,\n",
       "        0, 0, 0, 0, 0, 0, 0, 0, 0, 0, 0, 0, 0, 0, 0, 0, 0, 0, 0, 0, 0, 0,\n",
       "        0, 0, 0, 0, 0, 0, 0, 0, 0, 0, 0, 1, 0, 0, 0, 0, 0, 0, 0, 0, 0, 0,\n",
       "        0, 0, 0, 0, 0, 0, 0, 0, 0, 0, 0, 0, 0, 0, 0, 0, 0, 0, 0, 0, 0, 0]],\n",
       "      dtype=int64)"
      ]
     },
     "execution_count": 15,
     "metadata": {},
     "output_type": "execute_result"
    }
   ],
   "source": [
    "X_test.iloc[0].values.reshape(1,-1)"
   ]
  },
  {
   "cell_type": "code",
   "execution_count": 16,
   "id": "93d15fab-69e5-445f-9de7-0dc200519784",
   "metadata": {},
   "outputs": [
    {
     "name": "stdout",
     "output_type": "stream",
     "text": [
      "Model Predictions : [8]\n",
      "Actual Labels : 8\n"
     ]
    }
   ],
   "source": [
    "# now take a pred on this 2d array to check that our model pred correctly or not\n",
    "\n",
    "# test 1 :\n",
    "print('Model Predictions :',svc.predict(X_test.iloc[0].values.reshape(1,-1)))\n",
    "print('Actual Labels :', y_test[0])"
   ]
  },
  {
   "cell_type": "code",
   "execution_count": 17,
   "id": "aec2fd04-45c5-4e5c-8607-cb3b689bba94",
   "metadata": {},
   "outputs": [
    {
     "name": "stdout",
     "output_type": "stream",
     "text": [
      "Model Predictions : [27]\n",
      "Actual Labels : 27\n"
     ]
    }
   ],
   "source": [
    "# test 2 :\n",
    "print('Model Predictions :',svc.predict(X_test.iloc[40].values.reshape(1,-1)))\n",
    "print('Actual Labels :', y_test[40])"
   ]
  },
  {
   "cell_type": "code",
   "execution_count": 18,
   "id": "8587229e-9d4e-4ac1-9759-5f98e56be9d5",
   "metadata": {},
   "outputs": [],
   "source": [
    "def helper(dis): # this funtion can give us the symptoms Description,Precautions,Medication,Diet plan,workout \n",
    "    desc = description[description['Disease'] == predicted_disease]['Description']\n",
    "    desc = \" \".join([w for w in desc])\n",
    "\n",
    "    pre = precautions[precautions['Disease'] == dis][['Precaution_1', 'Precaution_2', 'Precaution_3', 'Precaution_4']]\n",
    "    pre = [col for col in pre.values]\n",
    "\n",
    "    med = medications[medications['Disease'] == dis]['Medication']\n",
    "    med = [med for med in med.values]\n",
    "\n",
    "    die = diets[diets['Disease'] == dis]['Diet']\n",
    "    die = [die for die in die.values]\n",
    "\n",
    "    wrkout = workout[workout['disease'] == dis] ['workout']\n",
    "\n",
    "\n",
    "    return desc,pre,med,die,wrkout\n",
    "\n",
    "# here i create a dictonary 1- symptoms and list 1- diseases because we transform our data in lobelEncoder (0,1) but the patient or user can not understand that which number represented the disease or symptom \n",
    "\n",
    "symptoms_dict = {'itching': 0, 'skin_rash': 1, 'nodal_skin_eruptions': 2, 'continuous_sneezing': 3, 'shivering': 4, 'chills': 5, 'joint_pain': 6, 'stomach_pain': 7, 'acidity': 8, 'ulcers_on_tongue': 9, 'muscle_wasting': 10, 'vomiting': 11, 'burning_micturition': 12, 'spotting_ urination': 13, 'fatigue': 14, 'weight_gain': 15, 'anxiety': 16, 'cold_hands_and_feets': 17, 'mood_swings': 18, 'weight_loss': 19, 'restlessness': 20, 'lethargy': 21, 'patches_in_throat': 22, 'irregular_sugar_level': 23, 'cough': 24, 'high_fever': 25, 'sunken_eyes': 26, 'breathlessness': 27, 'sweating': 28, 'dehydration': 29, 'indigestion': 30, 'headache': 31, 'yellowish_skin': 32, 'dark_urine': 33, 'nausea': 34, 'loss_of_appetite': 35, 'pain_behind_the_eyes': 36, 'back_pain': 37, 'constipation': 38, 'abdominal_pain': 39, 'diarrhoea': 40, 'mild_fever': 41, 'yellow_urine': 42, 'yellowing_of_eyes': 43, 'acute_liver_failure': 44, 'fluid_overload': 45, 'swelling_of_stomach': 46, 'swelled_lymph_nodes': 47, 'malaise': 48, 'blurred_and_distorted_vision': 49, 'phlegm': 50, 'throat_irritation': 51, 'redness_of_eyes': 52, 'sinus_pressure': 53, 'runny_nose': 54, 'congestion': 55, 'chest_pain': 56, 'weakness_in_limbs': 57, 'fast_heart_rate': 58, 'pain_during_bowel_movements': 59, 'pain_in_anal_region': 60, 'bloody_stool': 61, 'irritation_in_anus': 62, 'neck_pain': 63, 'dizziness': 64, 'cramps': 65, 'bruising': 66, 'obesity': 67, 'swollen_legs': 68, 'swollen_blood_vessels': 69, 'puffy_face_and_eyes': 70, 'enlarged_thyroid': 71, 'brittle_nails': 72, 'swollen_extremeties': 73, 'excessive_hunger': 74, 'extra_marital_contacts': 75, 'drying_and_tingling_lips': 76, 'slurred_speech': 77, 'knee_pain': 78, 'hip_joint_pain': 79, 'muscle_weakness': 80, 'stiff_neck': 81, 'swelling_joints': 82, 'movement_stiffness': 83, 'spinning_movements': 84, 'loss_of_balance': 85, 'unsteadiness': 86, 'weakness_of_one_body_side': 87, 'loss_of_smell': 88, 'bladder_discomfort': 89, 'foul_smell_of urine': 90, 'continuous_feel_of_urine': 91, 'passage_of_gases': 92, 'internal_itching': 93, 'toxic_look_(typhos)': 94, 'depression': 95, 'irritability': 96, 'muscle_pain': 97, 'altered_sensorium': 98, 'red_spots_over_body': 99, 'belly_pain': 100, 'abnormal_menstruation': 101, 'dischromic _patches': 102, 'watering_from_eyes': 103, 'increased_appetite': 104, 'polyuria': 105, 'family_history': 106, 'mucoid_sputum': 107, 'rusty_sputum': 108, 'lack_of_concentration': 109, 'visual_disturbances': 110, 'receiving_blood_transfusion': 111, 'receiving_unsterile_injections': 112, 'coma': 113, 'stomach_bleeding': 114, 'distention_of_abdomen': 115, 'history_of_alcohol_consumption': 116, 'fluid_overload.1': 117, 'blood_in_sputum': 118, 'prominent_veins_on_calf': 119, 'palpitations': 120, 'painful_walking': 121, 'pus_filled_pimples': 122, 'blackheads': 123, 'scurring': 124, 'skin_peeling': 125, 'silver_like_dusting': 126, 'small_dents_in_nails': 127, 'inflammatory_nails': 128, 'blister': 129, 'red_sore_around_nose': 130, 'yellow_crust_ooze': 131}\n",
    "diseases_list = {15: 'Fungal infection', 4: 'Allergy', 16: 'GERD', 9: 'Chronic cholestasis', 14: 'Drug Reaction', 33: 'Peptic ulcer diseae', 1: 'AIDS', 12: 'Diabetes ', 17: 'Gastroenteritis', 6: 'Bronchial Asthma', 23: 'Hypertension ', 30: 'Migraine', 7: 'Cervical spondylosis', 32: 'Paralysis (brain hemorrhage)', 28: 'Jaundice', 29: 'Malaria', 8: 'Chicken pox', 11: 'Dengue', 37: 'Typhoid', 40: 'hepatitis A', 19: 'Hepatitis B', 20: 'Hepatitis C', 21: 'Hepatitis D', 22: 'Hepatitis E', 3: 'Alcoholic hepatitis', 36: 'Tuberculosis', 10: 'Common Cold', 34: 'Pneumonia', 13: 'Dimorphic hemmorhoids(piles)', 18: 'Heart attack', 39: 'Varicose veins', 26: 'Hypothyroidism', 24: 'Hyperthyroidism', 25: 'Hypoglycemia', 31: 'Osteoarthristis', 5: 'Arthritis', 0: '(vertigo) Paroymsal  Positional Vertigo', 2: 'Acne', 38: 'Urinary tract infection', 35: 'Psoriasis', 27: 'Impetigo'}\n",
    "\n",
    "# Model Prediction function\n",
    "def given_predicted_value(patient_symptoms):\n",
    "    input_vector = np.zeros(len(symptoms_dict))\n",
    "    for item in patient_symptoms:\n",
    "        input_vector[symptoms_dict[item]] = 1\n",
    "    return diseases_list[svc.predict([input_vector])[0]]"
   ]
  },
  {
   "cell_type": "code",
   "execution_count": 19,
   "id": "dedab0bc-cf22-480c-9f64-76b7d2d4a736",
   "metadata": {},
   "outputs": [
    {
     "name": "stdout",
     "output_type": "stream",
     "text": [
      "Please say your symptoms...\n",
      "You said: stomach pain\n",
      "Normalized symptoms: ['stomach_pain']\n",
      "Predicted disease: Drug Reaction\n",
      "=================predicted disease============\n",
      "Drug Reaction\n",
      "=================description==================\n",
      "Drug Reaction occurs when the body reacts adversely to a medication.\n",
      "=================precautions==================\n",
      "1: stop irritation\n",
      "2: consult nearest hospital\n",
      "3: stop taking drug\n",
      "4: follow up\n",
      "=================medications==================\n",
      "1: ['Antihistamines', 'Epinephrine', 'Corticosteroids', 'Antibiotics', 'Antifungal Cream']\n",
      "=================workout==================\n",
      "1: Discontinue offending medication\n",
      "2: Stay hydrated\n",
      "3: Include anti-inflammatory foods\n",
      "4: Consume antioxidants\n",
      "5: Avoid trigger foods\n",
      "6: Include omega-3 fatty acids\n",
      "7: Limit caffeine and alcohol\n",
      "8: Stay hydrated\n",
      "9: Eat a balanced diet\n",
      "10: Consult a healthcare professional\n",
      "=================diets==================\n",
      "1: ['Antihistamine Diet', 'Omega-3-rich foods', 'Vitamin C-rich foods', 'Quercetin-rich foods', 'Probiotics']\n"
     ]
    }
   ],
   "source": [
    "import speech_recognition as sr\n",
    "import pyttsx3\n",
    "\n",
    "# Initialize the text-to-speech engine\n",
    "engine = pyttsx3.init()\n",
    "\n",
    "def speak(text):\n",
    "    engine.say(text)\n",
    "    engine.runAndWait()\n",
    "\n",
    "def get_voice_input():\n",
    "    recognizer = sr.Recognizer()\n",
    "    with sr.Microphone() as source:\n",
    "        speak(\"Please say your symptoms...\")\n",
    "        print(\"Please say your symptoms...\")\n",
    "        audio = recognizer.listen(source)\n",
    "        try:\n",
    "            symptoms = recognizer.recognize_google(audio)\n",
    "            speak(\"You said: \" + symptoms)\n",
    "            print(\"You said: \" + symptoms)\n",
    "            return symptoms\n",
    "        except sr.UnknownValueError:\n",
    "            speak(\"Sorry, I could not understand the audio.\")\n",
    "            print(\"Sorry, I could not understand the audio.\")\n",
    "        except sr.RequestError:\n",
    "            speak(\"Could not request results; check your network connection.\")\n",
    "            print(\"Could not request results; check your network connection.\")\n",
    "\n",
    "def normalize_symptom(symptom):\n",
    "    # Add normalization rules here\n",
    "    symptom = symptom.lower().replace(\" \", \"_\")\n",
    "    return symptom\n",
    "\n",
    "symptoms = get_voice_input()\n",
    "if symptoms:\n",
    "    # Split the user's input into a list of symptoms (assuming they are comma-separated)\n",
    "    user_symptoms = [s.strip() for s in symptoms.split(',')]\n",
    "    # Normalize symptoms to match dataset format\n",
    "    user_symptoms = [normalize_symptom(symptom) for symptom in user_symptoms]\n",
    "\n",
    "    print(\"Normalized symptoms:\", user_symptoms)  # Debugging line\n",
    "\n",
    "    try:\n",
    "        predicted_disease = given_predicted_value(user_symptoms)\n",
    "        print(\"Predicted disease:\", predicted_disease)  # Debugging line\n",
    "\n",
    "        desc, pre, med, die, wrkout = helper(predicted_disease)\n",
    "\n",
    "        \n",
    "        print(\"=================predicted disease============\")\n",
    "        print(predicted_disease)\n",
    "        speak(\"predicted disease\")\n",
    "        speak(predicted_disease)\n",
    "        \n",
    "        \n",
    "        print(\"=================description==================\")\n",
    "        print(desc)\n",
    "        speak(\"description\")\n",
    "        speak(desc)\n",
    "        \n",
    "        \n",
    "        print(\"=================precautions==================\")\n",
    "        speak(\"precautions\")\n",
    "        i = 1\n",
    "        for p_i in pre[0]:\n",
    "            print(f\"{i}: {p_i}\")\n",
    "            speak(f\"{i}: {p_i}\")\n",
    "            i += 1\n",
    "\n",
    "        \n",
    "        print(\"=================medications==================\")\n",
    "        speak(\"medications\")\n",
    "        i=1\n",
    "        for m_i in med:\n",
    "            print(f\"{i}: {m_i}\")\n",
    "            speak(f\"{i}: {m_i}\")\n",
    "            i += 1\n",
    "\n",
    "        \n",
    "        print(\"=================workout==================\")\n",
    "        speak(\"workout\")\n",
    "        i=1\n",
    "        for w_i in wrkout:\n",
    "            print(f\"{i}: {w_i}\")\n",
    "            speak(f\"{i}: {w_i}\")\n",
    "            i += 1\n",
    "\n",
    "        \n",
    "        print(\"=================diets==================\")\n",
    "        speak(\"diets\")\n",
    "        i=1\n",
    "        for d_i in die:\n",
    "            print(f\"{i}: {d_i}\")\n",
    "            speak(f\"{i}: {d_i}\")\n",
    "            i += 1\n",
    "    except KeyError as e:\n",
    "        print(f\"Error: {e} not found in the dataset.\")\n",
    "        speak(f\"Error: {e} not found in the dataset.\")\n",
    "        \n",
    "else:\n",
    "    print(\"No symptoms were provided.\")\n",
    "    speak(\"No symptoms were provided.\")\n",
    "   \n"
   ]
  },
  {
   "cell_type": "code",
   "execution_count": 20,
   "id": "2590fb8a-b846-4fca-9f66-2004412b6b1d",
   "metadata": {},
   "outputs": [
    {
     "name": "stdout",
     "output_type": "stream",
     "text": [
      "File 'app.py' has been saved.\n"
     ]
    }
   ],
   "source": [
    "streamlit_code = \"\"\"\n",
    "import streamlit as st\n",
    "import speech_recognition as sr\n",
    "import pyttsx3\n",
    "\n",
    "# Initialize the text-to-speech engine\n",
    "engine = pyttsx3.init(driverName='espeak')\n",
    "\n",
    "def speak(text):\n",
    "    engine.say(text)\n",
    "    engine.runAndWait()\n",
    "\n",
    "def get_voice_input():\n",
    "    recognizer = sr.Recognizer()\n",
    "    with sr.Microphone() as source:\n",
    "        speak(\"Please say your symptoms...\")\n",
    "        st.write(\"Please say your symptoms...\")\n",
    "        audio = recognizer.listen(source)\n",
    "        try:\n",
    "            symptoms = recognizer.recognize_google(audio)\n",
    "            speak(\"You said: \" + symptoms)\n",
    "            st.write(\"You said: \" + symptoms)\n",
    "            return symptoms\n",
    "        except sr.UnknownValueError:\n",
    "            speak(\"Sorry, I could not understand the audio.\")\n",
    "            st.write(\"Sorry, I could not understand the audio.\")\n",
    "        except sr.RequestError:\n",
    "            speak(\"Could not request results; check your network connection.\")\n",
    "            st.write(\"Could not request results; check your network connection.\")\n",
    "\n",
    "def normalize_symptom(symptom):\n",
    "    symptom = symptom.lower().replace(\" \", \"_\")\n",
    "    return symptom\n",
    "\n",
    "st.title(\"Disease Prediction App\")\n",
    "st.write(\"Click the button below and speak your symptoms.\")\n",
    "\n",
    "if st.button(\"Start Voice Input\"):\n",
    "    symptoms = get_voice_input()\n",
    "    if symptoms:\n",
    "        user_symptoms = [normalize_symptom(s.strip()) for s in symptoms.split(',')]\n",
    "        try:\n",
    "            predicted_disease = given_predicted_value(user_symptoms)\n",
    "            desc, pre, med, die, wrkout = helper(predicted_disease)\n",
    "\n",
    "            st.write(\"=================predicted disease============\")\n",
    "            speak(\"predicted disease\")\n",
    "            st.write(predicted_disease)\n",
    "            speak(predicted_disease)\n",
    "            st.write(\"=================description==================\")\n",
    "            speak(\"description\")\n",
    "            st.write(desc)\n",
    "            speak(desc)\n",
    "            st.write(\"=================precautions==================\")\n",
    "            speak(\"precautions\")\n",
    "            for i, p_i in enumerate(pre, 1):\n",
    "                st.write(f\"{i}: {p_i}\")\n",
    "                speak(f\"{i}: {p_i}\")\n",
    "\n",
    "            st.write(\"=================medications==================\")\n",
    "            speak(\"medications\")\n",
    "            for i, m_i in enumerate(med, 1):\n",
    "                st.write(f\"{i}: {m_i}\")\n",
    "                speak(f\"{i}: {m_i}\")\n",
    "\n",
    "            st.write(\"=================workout==================\")\n",
    "            speak(\"workout\")\n",
    "            for i, w_i in enumerate(wrkout, 1):\n",
    "                st.write(f\"{i}: {w_i}\")\n",
    "                speak(f\"{i}: {w_i}\")\n",
    "\n",
    "            st.write(\"=================diets==================\")\n",
    "            speak(\"diets\")\n",
    "            for i, d_i in enumerate(die, 1):\n",
    "                st.write(f\"{i}: {d_i}\")\n",
    "                speak(f\"{i}: {d_i}\")\n",
    "        except KeyError as e:\n",
    "            st.write(f\"Error: {e} not found in the dataset.\")\n",
    "            speak(f\"Error: {e} not found in the dataset.\")\n",
    "    else:\n",
    "        st.write(\"No symptoms were provided.\")\n",
    "        speak(\"No symptoms were provided.\")\n",
    "\n",
    "\"\"\"\n",
    "file_path = 'app.py'\n",
    "\n",
    "# Write the content to the file\n",
    "with open(file_path, 'w') as file:\n",
    "    file.write(streamlit_code)\n",
    "\n",
    "print(f\"File '{file_path}' has been saved.\")\n"
   ]
  },
  {
   "cell_type": "code",
   "execution_count": 21,
   "id": "8327c47a-56fb-4cbf-9546-60972434ac97",
   "metadata": {},
   "outputs": [
    {
     "name": "stdout",
     "output_type": "stream",
     "text": [
      "Note: you may need to restart the kernel to use updated packages.\n"
     ]
    }
   ],
   "source": [
    "pip freeze > requirements.txt"
   ]
  },
  {
   "cell_type": "code",
   "execution_count": null,
   "id": "a0a7d813-2ad8-4dfc-9331-b6812501a024",
   "metadata": {},
   "outputs": [],
   "source": []
  }
 ],
 "metadata": {
  "kernelspec": {
   "display_name": "Python 3 (ipykernel)",
   "language": "python",
   "name": "python3"
  },
  "language_info": {
   "codemirror_mode": {
    "name": "ipython",
    "version": 3
   },
   "file_extension": ".py",
   "mimetype": "text/x-python",
   "name": "python",
   "nbconvert_exporter": "python",
   "pygments_lexer": "ipython3",
   "version": "3.12.4"
  }
 },
 "nbformat": 4,
 "nbformat_minor": 5
}
